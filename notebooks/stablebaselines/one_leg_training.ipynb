{
 "cells": [
  {
   "cell_type": "markdown",
   "metadata": {},
   "source": [
    "# One Leg training using PPO2 from StableBaselines"
   ]
  },
  {
   "cell_type": "markdown",
   "metadata": {},
   "source": [
    "## Training with PPO2\n",
    "\n",
    "These hyperparameters originates from StableBaselinesZoo Reacher's hyperparameters."
   ]
  },
  {
   "cell_type": "code",
   "execution_count": 4,
   "metadata": {},
   "outputs": [
    {
     "data": {
      "text/plain": [
       "<stable_baselines.ppo2.ppo2.PPO2 at 0x7f0a64d9f470>"
      ]
     },
     "execution_count": 4,
     "metadata": {},
     "output_type": "execute_result"
    }
   ],
   "source": [
    "from stable_baselines.common.policies import MlpPolicy\n",
    "from stable_baselines.common import make_vec_env\n",
    "from stable_baselines import PPO2\n",
    "\n",
    "# TODO: problème de multiprocess\n",
    "env = make_vec_env('gym_kraby:OneLegBulletEnv-v0', n_envs=8)\n",
    "\n",
    "# Use `tensorboard --logdir notebooks/stablebaselines/tensorboard_log/one_leg` to inspect learning\n",
    "model = PPO2(\n",
    "    policy=MlpPolicy,\n",
    "    env=env,\n",
    "    gamma=0.99,  # Discount factor\n",
    "    n_steps=2048,  # batchsize = n_steps * n_envs\n",
    "    ent_coef=0.0,  # Entropy coefficient for the loss calculation\n",
    "    learning_rate=2.5e-4,\n",
    "    lam=0.95,  # Factor for trade-off of bias vs variance for Generalized Advantage Estimator\n",
    "    nminibatches=32,  # Number of training minibatches per update.\n",
    "                      # For recurrent policies, the nb of env run in parallel should be a multiple of it.\n",
    "    noptepochs=10,  # Number of epoch when optimizing the surrogate\n",
    "    cliprange=0.2,  # Clipping parameter, this clipping depends on the reward scaling\n",
    "    verbose=False,\n",
    "    tensorboard_log=\"./tensorboard_log/one_leg/\",\n",
    "\n",
    "    # For tests\n",
    "    seed=0,  # Fixed seed\n",
    "    n_cpu_tf_sess=1,  # force deterministic results\n",
    ")\n",
    "model.learn(total_timesteps=int(1e6))"
   ]
  },
  {
   "cell_type": "code",
   "execution_count": 5,
   "metadata": {},
   "outputs": [],
   "source": [
    "# Saving model\n",
    "model.save(\"trained_models/one_leg\")"
   ]
  },
  {
   "cell_type": "code",
   "execution_count": null,
   "metadata": {},
   "outputs": [],
   "source": []
  }
 ],
 "metadata": {
  "kernelspec": {
   "display_name": "Python 3",
   "language": "python",
   "name": "python3"
  },
  "language_info": {
   "codemirror_mode": {
    "name": "ipython",
    "version": 3
   },
   "file_extension": ".py",
   "mimetype": "text/x-python",
   "name": "python",
   "nbconvert_exporter": "python",
   "pygments_lexer": "ipython3",
   "version": "3.6.9"
  }
 },
 "nbformat": 4,
 "nbformat_minor": 4
}
