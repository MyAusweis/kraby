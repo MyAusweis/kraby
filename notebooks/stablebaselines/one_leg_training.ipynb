{
 "cells": [
  {
   "cell_type": "markdown",
   "metadata": {},
   "source": [
    "# Training using PPO2"
   ]
  },
  {
   "cell_type": "code",
   "execution_count": null,
   "metadata": {},
   "outputs": [
    {
     "name": "stdout",
     "output_type": "stream",
     "text": [
      "WARNING:tensorflow:\n",
      "The TensorFlow contrib module will not be included in TensorFlow 2.0.\n",
      "For more information, please see:\n",
      "  * https://github.com/tensorflow/community/blob/master/rfcs/20180907-contrib-sunset.md\n",
      "  * https://github.com/tensorflow/addons\n",
      "  * https://github.com/tensorflow/io (for I/O related ops)\n",
      "If you depend on functionality not listed there, please file an issue.\n",
      "\n",
      "[+] Starting training 1\n",
      "[+] Starting training 2\n",
      "[+] Starting training 3\n"
     ]
    }
   ],
   "source": [
    "from gym_kraby.train import train\n",
    "\n",
    "train(\n",
    "    exp_name=\"test\",\n",
    "    env_name=\"gym_kraby:OneLegBulletEnv-v0\",\n",
    "    n_envs=32,\n",
    "    gamma=0.90,  # Discount factor\n",
    "    n_steps=128,  # batchsize = n_steps * n_envs\n",
    "    ent_coef=0.01,  # Entropy coefficient for the loss calculation\n",
    "    learning_rate=10e-4,\n",
    "    lam=0.95,  # Factor for trade-off of bias vs variance for Generalized Advantage Estimator\n",
    "    nminibatches=64,  # Number of training minibatches per update.\n",
    "    noptepochs=30,  # Number of epoch when optimizing the surrogate\n",
    "    cliprange=0.2,  # Clipping parameter, this clipping depends on the reward scaling, -1 desactivate\n",
    ")"
   ]
  },
  {
   "cell_type": "code",
   "execution_count": null,
   "metadata": {},
   "outputs": [],
   "source": []
  }
 ],
 "metadata": {
  "kernelspec": {
   "display_name": "Python 3",
   "language": "python",
   "name": "python3"
  },
  "language_info": {
   "codemirror_mode": {
    "name": "ipython",
    "version": 3
   },
   "file_extension": ".py",
   "mimetype": "text/x-python",
   "name": "python",
   "nbconvert_exporter": "python",
   "pygments_lexer": "ipython3",
   "version": "3.6.9"
  }
 },
 "nbformat": 4,
 "nbformat_minor": 4
}
