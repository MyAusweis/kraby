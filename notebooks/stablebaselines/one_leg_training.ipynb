{
 "cells": [
  {
   "cell_type": "code",
   "execution_count": 1,
   "metadata": {},
   "outputs": [],
   "source": [
    "# Disable Tensorflow deprecation warnings\n",
    "import tensorflow as tf\n",
    "tf.compat.v1.logging.set_verbosity(tf.compat.v1.logging.ERROR)"
   ]
  },
  {
   "cell_type": "markdown",
   "metadata": {},
   "source": [
    "# One Leg training using PPO2 from StableBaselines"
   ]
  },
  {
   "cell_type": "code",
   "execution_count": null,
   "metadata": {
    "scrolled": false
   },
   "outputs": [
    {
     "name": "stdout",
     "output_type": "stream",
     "text": [
      "Starting training 1\n",
      "Starting training 2\n",
      "Starting training 3\n",
      "Starting training 4\n",
      "Starting training 5\n",
      "Starting training 6\n",
      "Starting training 7\n",
      "Starting training 8\n",
      "Starting training 9\n",
      "Starting training 10\n"
     ]
    }
   ],
   "source": [
    "from stable_baselines.common.policies import MlpPolicy\n",
    "from stable_baselines.common import set_global_seeds\n",
    "from stable_baselines import PPO2\n",
    "from stable_baselines.common.vec_env import SubprocVecEnv\n",
    "import gym\n",
    "from gym.wrappers import TimeLimit\n",
    "\n",
    "\n",
    "def make_env(rank, seed=0):\n",
    "    \"\"\"\n",
    "    Init an environment\n",
    "\n",
    "    :param rank: (int) index of the subprocess\n",
    "    :param seed: (int) the inital seed for RNG\n",
    "    \"\"\"\n",
    "    timestep_limit = 128\n",
    "\n",
    "    def _init():\n",
    "        env = gym.make(\"gym_kraby:OneLegBulletEnv-v0\")\n",
    "        env = TimeLimit(env, timestep_limit)\n",
    "        env.seed(seed + rank)\n",
    "        return env\n",
    "    set_global_seeds(seed)\n",
    "    return _init\n",
    "\n",
    "# Train 10 runs\n",
    "for n in range(1, 11):  # PPO2_n\n",
    "    print(\"Starting training\", n)\n",
    "    num_cpu = 32\n",
    "    env = SubprocVecEnv([make_env(i, n*32) for i in range(num_cpu)])\n",
    "\n",
    "    # Use `tensorboard --logdir notebooks/stablebaselines/tensorboard_log/one_leg_doc1` to inspect learning\n",
    "    model = PPO2(\n",
    "        policy=MlpPolicy,\n",
    "        env=env,\n",
    "        gamma=0.99,  # Discount factor\n",
    "        n_steps=512,  # batchsize = n_steps * n_envs\n",
    "        ent_coef=0.01,  # Entropy coefficient for the loss calculation\n",
    "        learning_rate=2.5e-4,\n",
    "        lam=0.95,  # Factor for trade-off of bias vs variance for Generalized Advantage Estimator\n",
    "        nminibatches=64,  # Number of training minibatches per update.\n",
    "                          # For recurrent policies, the nb of env run in parallel should be a multiple of it.\n",
    "        noptepochs=30,  # Number of epoch when optimizing the surrogate\n",
    "        cliprange=0.2,  # Clipping parameter, this clipping depends on the reward scaling\n",
    "        verbose=False,\n",
    "        tensorboard_log=\"./tensorboard_log/one_leg_doc1/\",\n",
    "\n",
    "        seed=32*n,  # Fixed seed\n",
    "        n_cpu_tf_sess=1,  # force deterministic results\n",
    "    )\n",
    "    model.learn(total_timesteps=int(1e6))\n",
    "\n",
    "    # Saving model\n",
    "    model.save(\"trained_models/one_leg_doc1_\" + str(n))\n",
    "\n",
    "    env.close()\n",
    "    del env\n",
    "    del model"
   ]
  },
  {
   "cell_type": "markdown",
   "metadata": {},
   "source": [
    "## Training with PPO2\n"
   ]
  },
  {
   "cell_type": "markdown",
   "metadata": {},
   "source": [
    "doc1: Learning to go to a random target TODO\n",
    "\n",
    "doc2: without torque\n",
    "\n",
    "doc3: cos/sin"
   ]
  },
  {
   "cell_type": "code",
   "execution_count": null,
   "metadata": {},
   "outputs": [],
   "source": []
  }
 ],
 "metadata": {
  "kernelspec": {
   "display_name": "Python 3",
   "language": "python",
   "name": "python3"
  },
  "language_info": {
   "codemirror_mode": {
    "name": "ipython",
    "version": 3
   },
   "file_extension": ".py",
   "mimetype": "text/x-python",
   "name": "python",
   "nbconvert_exporter": "python",
   "pygments_lexer": "ipython3",
   "version": "3.6.9"
  }
 },
 "nbformat": 4,
 "nbformat_minor": 4
}
