{
 "cells": [
  {
   "cell_type": "markdown",
   "metadata": {},
   "source": [
    "# Demo in PyBullet GUI"
   ]
  },
  {
   "cell_type": "code",
   "execution_count": 1,
   "metadata": {},
   "outputs": [],
   "source": [
    "# Disable Tensorflow deprecation warnings\n",
    "import tensorflow as tf\n",
    "tf.compat.v1.logging.set_verbosity(tf.compat.v1.logging.ERROR)"
   ]
  },
  {
   "cell_type": "code",
   "execution_count": 2,
   "metadata": {},
   "outputs": [],
   "source": [
    "from stable_baselines import PPO2\n",
    "from stable_baselines.common import make_vec_env\n",
    "from stable_baselines.common.vec_env import VecVideoRecorder, DummyVecEnv\n",
    "import gym\n",
    "\n",
    "eval_env = DummyVecEnv([lambda: gym.make('gym_kraby:OneLegBulletEnv-v0', render=True)])\n",
    "model = PPO2.load(\"trained_models/one_leg\", env=eval_env, verbose=False)"
   ]
  },
  {
   "cell_type": "code",
   "execution_count": 3,
   "metadata": {},
   "outputs": [],
   "source": [
    "# Test 10 episodes\n",
    "for _ in range(10):\n",
    "    obs = eval_env.reset()\n",
    "    for _ in range(75):\n",
    "        action, _ = model.predict(obs)\n",
    "        obs, _, _, _ = eval_env.step(action)"
   ]
  },
  {
   "cell_type": "markdown",
   "metadata": {},
   "source": [
    "# Render a MP4 video"
   ]
  },
  {
   "cell_type": "code",
   "execution_count": 4,
   "metadata": {
    "scrolled": true
   },
   "outputs": [],
   "source": [
    "from stable_baselines import PPO2\n",
    "from stable_baselines.common import make_vec_env\n",
    "from stable_baselines.common.vec_env import VecVideoRecorder, DummyVecEnv\n",
    "import gym\n",
    "\n",
    "video_length = 10*75\n",
    "eval_env = DummyVecEnv([lambda: gym.make('gym_kraby:OneLegBulletEnv-v0')])\n",
    "eval_env = VecVideoRecorder(eval_env, video_folder=\"video/\",\n",
    "                            record_video_trigger=lambda step: step == 0, video_length=video_length,\n",
    "                            name_prefix=\"one_leg\")\n",
    "model = PPO2.load(\"trained_models/one_leg\", env=eval_env, verbose=False)\n",
    "\n",
    "for _ in range(10):\n",
    "    obs = eval_env.reset()\n",
    "    for _ in range(75):\n",
    "        action, _ = model.predict(obs)\n",
    "        obs, _, _, _ = eval_env.step(action)\n",
    "\n",
    "eval_env.close()"
   ]
  },
  {
   "cell_type": "markdown",
   "metadata": {},
   "source": [
    "# Render a GIF"
   ]
  },
  {
   "cell_type": "code",
   "execution_count": 5,
   "metadata": {},
   "outputs": [],
   "source": [
    "from stable_baselines import PPO2\n",
    "from stable_baselines.common import make_vec_env\n",
    "from stable_baselines.common.vec_env import VecVideoRecorder, DummyVecEnv\n",
    "import gym\n",
    "import imageio\n",
    "import numpy as np\n",
    "\n",
    "eval_env = DummyVecEnv([lambda: gym.make('gym_kraby:OneLegBulletEnv-v0')])\n",
    "model = PPO2.load(\"trained_models/one_leg\", env=eval_env, verbose=1)\n",
    "\n",
    "images = []\n",
    "\n",
    "for _ in range(10):\n",
    "    obs = model.env.reset()\n",
    "    img = model.env.render(mode='rgb_array')\n",
    "    for i in range(75):\n",
    "        images.append(img)\n",
    "        action, _ = model.predict(obs)\n",
    "        obs, _, _ ,_ = model.env.step(action)\n",
    "        img = model.env.render(mode='rgb_array')\n",
    "\n",
    "imageio.mimsave('video/one_leg.gif', [np.array(img) for i, img in enumerate(images) if i%4 == 0], fps=30)"
   ]
  },
  {
   "cell_type": "code",
   "execution_count": null,
   "metadata": {},
   "outputs": [],
   "source": []
  }
 ],
 "metadata": {
  "kernelspec": {
   "display_name": "Python 3",
   "language": "python",
   "name": "python3"
  },
  "language_info": {
   "codemirror_mode": {
    "name": "ipython",
    "version": 3
   },
   "file_extension": ".py",
   "mimetype": "text/x-python",
   "name": "python",
   "nbconvert_exporter": "python",
   "pygments_lexer": "ipython3",
   "version": "3.6.9"
  }
 },
 "nbformat": 4,
 "nbformat_minor": 4
}
